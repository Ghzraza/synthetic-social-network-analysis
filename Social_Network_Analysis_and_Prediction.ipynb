{
  "nbformat": 4,
  "nbformat_minor": 0,
  "metadata": {
    "colab": {
      "provenance": [],
      "authorship_tag": "ABX9TyNNQA+b8ZL6if7+5Yf5Wqlc",
      "include_colab_link": true
    },
    "kernelspec": {
      "name": "python3",
      "display_name": "Python 3"
    },
    "language_info": {
      "name": "python"
    }
  },
  "cells": [
    {
      "cell_type": "markdown",
      "metadata": {
        "id": "view-in-github",
        "colab_type": "text"
      },
      "source": [
        "<a href=\"https://colab.research.google.com/github/Ghzraza/synthetic-social-network-analysis/blob/main/Social_Network_Analysis_and_Prediction.ipynb\" target=\"_parent\"><img src=\"https://colab.research.google.com/assets/colab-badge.svg\" alt=\"Open In Colab\"/></a>"
      ]
    },
    {
      "cell_type": "code",
      "source": [
        "# SNA_Synthetic_Interactions.ipynb\n",
        "# Author: Ghazal Raza\n",
        "# Purpose: Temporal network analysis, clustering, and AI prediction of synthetic interactions\n",
        "# For Labonté Lab projects (neuronal circuits & social dynamics)\n",
        "\n",
        "# --- 0. Setup ---\n",
        "import numpy as np\n",
        "import networkx as nx\n",
        "import matplotlib.pyplot as plt\n",
        "import seaborn as sns\n",
        "import torch\n",
        "from torch import nn\n",
        "from torch.utils.data import Dataset, DataLoader\n",
        "import os\n",
        "sns.set()\n",
        "\n",
        "# Ensure results folders exist\n",
        "os.makedirs('results/network_plots', exist_ok=True)\n",
        "os.makedirs('results/predicted_networks', exist_ok=True)\n",
        "\n",
        "# --- 1. Function Definitions (self-contained) ---\n",
        "\n",
        "# 1a. Network generation\n",
        "def generate_synthetic_network(num_nodes=20, p_edge=0.2, seed=42):\n",
        "    import random\n",
        "    np.random.seed(seed)\n",
        "    random.seed(seed)\n",
        "    G = nx.erdos_renyi_graph(n=num_nodes, p=p_edge, seed=seed)\n",
        "    for node in G.nodes():\n",
        "        G.nodes[node]['type'] = random.choice(['agent_A','agent_B'])\n",
        "    return G\n",
        "\n",
        "# 1b. Network evolution\n",
        "def evolve_network(G, steps=10, p_add=0.1, p_remove=0.05):\n",
        "    evolution = []\n",
        "    G_curr = G.copy()\n",
        "    for t in range(steps):\n",
        "        G_next = G_curr.copy()\n",
        "        # Add edges\n",
        "        for i in G_curr.nodes():\n",
        "            for j in G_curr.nodes():\n",
        "                if i != j and not G_curr.has_edge(i,j) and np.random.rand() < p_add:\n",
        "                    G_next.add_edge(i,j)\n",
        "        # Remove edges\n",
        "        for i,j in list(G_curr.edges()):\n",
        "            if np.random.rand() < p_remove:\n",
        "                G_next.remove_edge(i,j)\n",
        "        evolution.append(G_next)\n",
        "        G_curr = G_next\n",
        "    return evolution\n",
        "\n",
        "# 1c. Clustering\n",
        "from sklearn.cluster import SpectralClustering\n",
        "def cluster_network(G, n_clusters=2):\n",
        "    adj = nx.to_numpy_array(G)\n",
        "    clustering = SpectralClustering(n_clusters=n_clusters, affinity='precomputed', random_state=42)\n",
        "    labels = clustering.fit_predict(adj)\n",
        "    return labels\n",
        "\n",
        "# 1d. RNN Prediction\n",
        "class NetworkDataset(Dataset):\n",
        "    def __init__(self, evolution):\n",
        "        self.data = []\n",
        "        for t in range(len(evolution)-1):\n",
        "            X = nx.to_numpy_array(evolution[t])\n",
        "            y = nx.to_numpy_array(evolution[t+1])\n",
        "            self.data.append((X,y))\n",
        "    def __len__(self):\n",
        "        return len(self.data)\n",
        "    def __getitem__(self, idx):\n",
        "        X, y = self.data[idx]\n",
        "        return torch.tensor(X,dtype=torch.float32), torch.tensor(y,dtype=torch.float32)\n",
        "\n",
        "class SimpleRNN(nn.Module):\n",
        "    def __init__(self, num_nodes, hidden_size=64):\n",
        "        super(SimpleRNN,self).__init__()\n",
        "        self.rnn = nn.RNN(input_size=num_nodes, hidden_size=hidden_size, batch_first=True)\n",
        "        self.fc = nn.Linear(hidden_size, num_nodes)\n",
        "    def forward(self, x):\n",
        "        out,_ = self.rnn(x)\n",
        "        out = self.fc(out[:,-1,:])\n",
        "        return out\n",
        "\n",
        "def train_rnn(evolution, num_nodes=20, epochs=20, lr=0.01):\n",
        "    dataset = NetworkDataset(evolution)\n",
        "    loader = DataLoader(dataset, batch_size=1, shuffle=False)\n",
        "    model = SimpleRNN(num_nodes)\n",
        "    criterion = nn.MSELoss()\n",
        "    optimizer = torch.optim.Adam(model.parameters(), lr=lr)\n",
        "    for epoch in range(epochs):\n",
        "        total_loss = 0\n",
        "        for X, y in loader:\n",
        "            optimizer.zero_grad()\n",
        "            X_rnn = X[:,0,:].unsqueeze(1)  # batch, seq_len=1, features\n",
        "            y_rnn = y[:,0,:]\n",
        "            output = model(X_rnn)\n",
        "            loss = criterion(output, y_rnn)\n",
        "            loss.backward()\n",
        "            optimizer.step()\n",
        "            total_loss += loss.item()\n",
        "        if (epoch+1)%5==0:\n",
        "            print(f\"Epoch {epoch+1}, Loss={total_loss/len(loader):.4f}\")\n",
        "    return model\n",
        "\n",
        "def predict_next_network(model, last_network):\n",
        "    X_last = torch.tensor(nx.to_numpy_array(last_network), dtype=torch.float32)\n",
        "    X_last = X_last[None, :, 0].unsqueeze(1)  # batch=1, seq_len=1, num_nodes\n",
        "    predicted_adj = model(X_last).detach().numpy()\n",
        "    return predicted_adj\n",
        "\n",
        "# 1e. Plotting utility\n",
        "def plot_and_save_network(G, labels=None, title=\"Network\", filename=\"network.png\"):\n",
        "    plt.figure(figsize=(6,6))\n",
        "    pos = nx.spring_layout(G, seed=42)\n",
        "    if labels is None:\n",
        "        nx.draw(G, pos, with_labels=True, node_color='skyblue', edge_color='gray')\n",
        "    else:\n",
        "        nx.draw(G, pos, with_labels=True, node_color=labels, cmap=plt.cm.Set2, edge_color='gray')\n",
        "    plt.title(title)\n",
        "    plt.savefig(filename)\n",
        "    plt.close()\n",
        "\n",
        "# --- 2. Run Workflow ---\n",
        "\n",
        "# Generate network\n",
        "G0 = generate_synthetic_network(num_nodes=20, p_edge=0.2)\n",
        "plot_and_save_network(G0, title=\"Initial Network\", filename='results/network_plots/initial_network.png')\n",
        "\n",
        "# Evolve network\n",
        "evolution = evolve_network(G0, steps=10)\n",
        "\n",
        "# Cluster and save plots\n",
        "for t, Gt in enumerate(evolution):\n",
        "    labels = cluster_network(Gt, n_clusters=2)\n",
        "    plot_and_save_network(Gt, labels=labels, title=f\"Network t={t+1}\",\n",
        "                          filename=f'results/network_plots/network_t{t+1}.png')\n",
        "\n",
        "# Train RNN\n",
        "model = train_rnn(evolution, num_nodes=20, epochs=20, lr=0.01)\n",
        "\n",
        "# Predict next network\n",
        "predicted_adj = predict_next_network(model, evolution[-1])\n",
        "plt.figure(figsize=(6,6))\n",
        "plt.imshow(predicted_adj, cmap='viridis')\n",
        "plt.colorbar()\n",
        "plt.title(\"Predicted Next Network Adjacency\")\n",
        "plt.savefig('results/predicted_networks/predicted_next_network.png')\n",
        "plt.show()\n",
        "\n",
        "# --- 3. Laval-Specific Comments ---\n",
        "\"\"\"\n",
        "This notebook demonstrates transferability to Labonté Lab projects:\n",
        "\n",
        "1. Computational Neuroscience:\n",
        "   - Nodes = neurons in mPFC\n",
        "   - Temporal evolution = recruitment of ensembles\n",
        "   - Clustering = functional neuronal groups\n",
        "   - RNN prediction = in silico modeling of circuit activity\n",
        "\n",
        "2. Neuroethological Social Dynamics:\n",
        "   - Nodes = mice in social colonies\n",
        "   - Temporal evolution = social interactions over time\n",
        "   - Clustering = social clusters / hierarchies\n",
        "   - RNN prediction = forecasting social behavior under constraints\n",
        "\"\"\"\n"
      ],
      "metadata": {
        "colab": {
          "base_uri": "https://localhost:8080/",
          "height": 646
        },
        "id": "4i0waM4vCOrc",
        "outputId": "ced7f2d2-d030-4e54-9b52-72c4ccb74fa0"
      },
      "execution_count": 5,
      "outputs": [
        {
          "output_type": "stream",
          "name": "stdout",
          "text": [
            "Epoch 5, Loss=0.0797\n",
            "Epoch 10, Loss=0.0192\n",
            "Epoch 15, Loss=0.0102\n",
            "Epoch 20, Loss=0.0057\n"
          ]
        },
        {
          "output_type": "display_data",
          "data": {
            "text/plain": [
              "<Figure size 600x600 with 2 Axes>"
            ],
            "image/png": "[encoded data removed]"
          },
          "metadata": {}
        },
        {
          "output_type": "execute_result",
          "data": {
            "text/plain": [
              "'\\nThis notebook demonstrates transferability to Labonté Lab projects:\\n\\n1. Computational Neuroscience:\\n   - Nodes = neurons in mPFC\\n   - Temporal evolution = recruitment of ensembles\\n   - Clustering = functional neuronal groups\\n   - RNN prediction = in silico modeling of circuit activity\\n\\n2. Neuroethological Social Dynamics:\\n   - Nodes = mice in social colonies\\n   - Temporal evolution = social interactions over time\\n   - Clustering = social clusters / hierarchies\\n   - RNN prediction = forecasting social behavior under constraints\\n'"
            ],
            "application/vnd.google.colaboratory.intrinsic+json": {
              "type": "string"
            }
          },
          "metadata": {},
          "execution_count": 5
        }
      ]
    },
    {
      "cell_type": "code",
      "source": [
        "# 1. Configure Git\n",
        "!git config --global user.email \"ghazalraza66@gmail.com\"\n",
        "!git config --global user.name \"Ghzraza\"\n",
        "\n",
        "# 2. Clone your repo\n",
        "!git clone https://github.com/<username>/<repo>.git\n",
        "%cd <repo>  # move into repo folder\n",
        "\n",
        "# 3. Copy results folder from Colab\n",
        "!cp -r /content/results ./results  # adjust path if different\n",
        "\n",
        "# 4. Add, commit, and push\n",
        "!git add results\n",
        "!git commit -m \"Add full results folder from Colab\"\n",
        "!git push origin main  # or master"
      ],
      "metadata": {
        "colab": {
          "base_uri": "https://localhost:8080/"
        },
        "id": "hsY_n8dhEqk1",
        "outputId": "7306481b-77ac-46e9-8f98-e1b174bab62c"
      },
      "execution_count": 6,
      "outputs": [
        {
          "output_type": "stream",
          "name": "stdout",
          "text": [
            "/bin/bash: line 1: username: No such file or directory\n",
            "[Errno 2] No such file or directory: '<repo> # move into repo folder'\n",
            "/content\n",
            "cp: cannot copy a directory, '/content/results', into itself, './results/results'\n",
            "fatal: not a git repository (or any of the parent directories): .git\n",
            "fatal: not a git repository (or any of the parent directories): .git\n",
            "fatal: not a git repository (or any of the parent directories): .git\n"
          ]
        }
      ]
    }
  ]
}